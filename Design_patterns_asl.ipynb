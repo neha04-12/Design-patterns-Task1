{
  "nbformat": 4,
  "nbformat_minor": 0,
  "metadata": {
    "colab": {
      "provenance": [],
      "gpuType": "T4"
    },
    "kernelspec": {
      "name": "python3",
      "display_name": "Python 3"
    },
    "language_info": {
      "name": "python"
    },
    "accelerator": "GPU"
  },
  "cells": [
    {
      "cell_type": "code",
      "source": [
        "# mounting the drive\n",
        "from google.colab import drive\n",
        "drive.mount('/content/drive')"
      ],
      "metadata": {
        "colab": {
          "base_uri": "https://localhost:8080/"
        },
        "id": "kyI7wwzu096s",
        "outputId": "fb0097fa-84d0-4f7e-97b2-7066bc53cfb9"
      },
      "execution_count": null,
      "outputs": [
        {
          "output_type": "stream",
          "name": "stdout",
          "text": [
            "Mounted at /content/drive\n"
          ]
        }
      ]
    },
    {
      "cell_type": "code",
      "execution_count": null,
      "metadata": {
        "id": "muOF4U1Apeua"
      },
      "outputs": [],
      "source": [
        "# importing libraries\n",
        "from abc import ABC, abstractmethod\n",
        "import torch\n",
        "import torch.nn as nn\n",
        "import torch.optim as optim\n",
        "import pandas as pd\n",
        "import numpy as np\n",
        "from torch.utils.data import DataLoader, TensorDataset\n",
        "from torch import nn\n",
        "from torchvision import transforms\n",
        "from sklearn.model_selection import train_test_split\n",
        "import torch.nn.functional as F\n",
        "import matplotlib.pyplot as plt\n",
        "from PIL import Image\n",
        "from torchvision import models, transforms"
      ]
    },
    {
      "cell_type": "code",
      "source": [
        "# checking if a gpu is available if not use the CPU\n",
        "device = torch.device(\"cuda\" if torch.cuda.is_available() else 'cpu')"
      ],
      "metadata": {
        "id": "o8tSPmXg1JYB"
      },
      "execution_count": null,
      "outputs": []
    },
    {
      "cell_type": "code",
      "source": [
        "# class to visualize the images with asl\n",
        "class visualisation_asl():\n",
        "  def load_image(self, image_path):\n",
        "        transform = transforms.Compose([\n",
        "            transforms.Grayscale(num_output_channels=1),\n",
        "            transforms.Resize((28, 28)),\n",
        "            transforms.ToTensor(),\n",
        "            transforms.Normalize((0.5,), (0.5,))\n",
        "        ])\n",
        "        image = Image.open(image_path)\n",
        "        image = transform(image) #transforming data\n",
        "        image = image.unsqueeze(0)  # adding batch dimension (batch size = 1)\n",
        "        image = image.to(device)  # ensuring  the image is on the correct device\n",
        "        return image\n",
        "\n",
        "  def plot_image(self, image, label):\n",
        "        image = image.cpu() # Move the tensor to CPU before converting to NumPy\n",
        "        image = np.squeeze(image.numpy())  # Convert tensor to NumPy array\n",
        "        plt.figure(figsize=(1.5, 3))\n",
        "        plt.imshow(image, cmap='gray')\n",
        "        plt.title(f\"Label: {label}\")\n",
        "        plt.axis('off')\n",
        "        plt.show()\n",
        "\n",
        "visualisation = visualisation_asl()"
      ],
      "metadata": {
        "id": "GvkU8PevREBK"
      },
      "execution_count": null,
      "outputs": []
    },
    {
      "cell_type": "code",
      "source": [
        "# creating dictionary of the labels and respective letters\n",
        "# it helps to identify if we correctly show label and its respective image\n",
        "alph_dict = {\n",
        "  0: 'A',\n",
        "  1: 'B',\n",
        "  2: 'C',\n",
        "  3: 'D',\n",
        "  4: 'E',\n",
        "  5: 'F',\n",
        "  6: 'G',\n",
        "  7: 'H',\n",
        "  8: 'I',\n",
        "  9: 'J',\n",
        "  10: 'K',\n",
        "  11: 'L',\n",
        "  12: 'M',\n",
        "  13: 'N',\n",
        "  14: 'O',\n",
        "  15: 'P',\n",
        "  16: 'Q',\n",
        "  17: 'R',\n",
        "  18: 'S',\n",
        "  19: 'T',\n",
        "  20: 'U',\n",
        "  21: 'V',\n",
        "  22: 'W',\n",
        "  23: 'X',\n",
        "  24: 'Y',\n",
        "  25: 'Z'\n",
        "  }"
      ],
      "metadata": {
        "id": "RfXNHD9fGvyM"
      },
      "execution_count": null,
      "outputs": []
    },
    {
      "cell_type": "code",
      "source": [
        "class ASLDataLoader():\n",
        "    # DataLoader class for loading and preprocessing ASL dataset\n",
        "    train_path = \"/content/drive/MyDrive/asl/sign_mnist_train.csv\"\n",
        "    test_path = \"/content/drive/MyDrive/asl/sign_mnist_test.csv\"\n",
        "    batch_size = 64\n",
        "    def _init_(self, train_path, test_path, batch_size):\n",
        "      # initializing paths and batch size\n",
        "        self.train_path = train_path\n",
        "        self.test_path = test_path\n",
        "        self.batch_size = batch_size\n",
        "\n",
        "    def load_data(self):\n",
        "      # loading dataset from csv file\n",
        "        df = pd.read_csv(self.train_path)\n",
        "        df_test = pd.read_csv(self.test_path)\n",
        "        return df, df_test\n",
        "\n",
        "    def preprocess_data(self, df, df_test):\n",
        "      # reshaping  normalising and splitting the data\n",
        "        X = df.drop('label', axis=1).values\n",
        "        X = X.reshape(-1, 1, 28, 28).astype('float32') / 255.0\n",
        "        y = df['label'].values\n",
        "\n",
        "        X_test = df_test.drop('label', axis=1).values\n",
        "        X_test= X_test.reshape(-1, 1, 28, 28).astype('float32') / 255.0\n",
        "        y_test = df_test['label'].values\n",
        "\n",
        "        # splitting the data into training and validation sets\n",
        "        X_train, X_val, y_train, y_val = train_test_split(X, y, test_size=0.2, random_state=42)\n",
        "\n",
        "        return (X_train, y_train), (X_val, y_val), (X_test, y_test)\n",
        "\n",
        "    def create_dataloaders(self):\n",
        "      # craeting dataloader onjects for training, validation and test set\n",
        "        df, df_test = self.load_data()\n",
        "        (X_train, y_train), (X_val, y_val), (X_test, y_test) = self.preprocess_data(df, df_test)\n",
        "\n",
        "        train_data = TensorDataset(torch.from_numpy(X_train), torch.from_numpy(y_train))\n",
        "        val_data = TensorDataset(torch.from_numpy(X_val), torch.from_numpy(y_val))\n",
        "        test_data = TensorDataset(torch.from_numpy(X_test), torch.from_numpy(y_test))\n",
        "\n",
        "        train_loader = DataLoader(train_data, batch_size=self.batch_size, shuffle=True)\n",
        "        val_loader = DataLoader(val_data, batch_size=self.batch_size, shuffle=True)\n",
        "        test_loader = DataLoader(test_data, batch_size=self.batch_size, shuffle=True)\n",
        "\n",
        "        return train_loader, val_loader, test_loader"
      ],
      "metadata": {
        "id": "5sY6UouisOvf"
      },
      "execution_count": null,
      "outputs": []
    },
    {
      "cell_type": "code",
      "source": [
        "# Template Pattern: Abstarct base class for asl model\n",
        "class ASLModel(ABC, nn.Module):\n",
        "    def __init__(self):\n",
        "        super().__init__()\n",
        "\n",
        "    @abstractmethod\n",
        "    def forward(self, x):\n",
        "      # abstract method for forward pass\n",
        "        pass\n",
        "\n",
        "    @abstractmethod\n",
        "    def train_model(self, train_loader, criterion, optimizer, epochs):\n",
        "      # abstract method for training model\n",
        "        pass\n",
        "\n",
        "    def predict(self, image):\n",
        "      #method for making predictions\n",
        "        self.eval()\n",
        "        with torch.no_grad():\n",
        "            return self.forward(image)\n"
      ],
      "metadata": {
        "id": "EJ_emMjZplUb"
      },
      "execution_count": null,
      "outputs": []
    },
    {
      "cell_type": "code",
      "source": [
        "# Strategy Pattern: Different model implementation - CNN\n",
        "class CNNModel(ASLModel):\n",
        "    def __init__(self):\n",
        "        super().__init__()\n",
        "        # defining cnn layers\n",
        "        self.conv1 = nn.Conv2d(1, 32, kernel_size=3, stride=1, padding=1)\n",
        "        self.conv2 = nn.Conv2d(32, 64, kernel_size=3, padding=1)\n",
        "        self.fc1 = nn.Linear(64 * 7 * 7, 256)\n",
        "        self.fc2 = nn.Linear(256, 25)\n",
        "        self.pool = nn.MaxPool2d(2, 2)\n",
        "        self.dropout = nn.Dropout(0.5)\n",
        "\n",
        "\n",
        "    def forward(self, x):\n",
        "      # defining forward pass\n",
        "        x = self.pool(F.relu(self.conv1(x)))\n",
        "        x = self.pool(F.relu(self.conv2(x)))\n",
        "        x = x.view(-1, 64 * 7 * 7)\n",
        "        x = F.relu(self.fc1(x))\n",
        "        x = self.dropout(x)\n",
        "        x = self.fc2(x)\n",
        "        return x\n",
        "\n",
        "    def train_model(self, train_loader,criterion, optimizer, num_epochs,device, observer=None):\n",
        "      #training function\n",
        "        train_losses, val_losses, val_accuracy = [], [],[]\n",
        "        for epoch in range(num_epochs):\n",
        "          running_loss = 0.0\n",
        "\n",
        "          # train loop\n",
        "          for images, labels in train_loader:\n",
        "              images, labels = images.to(device), labels.to(device)\n",
        "              # zero the parameter gradients\n",
        "              optimizer.zero_grad()\n",
        "              # forward pass\n",
        "              outputs = model(images)\n",
        "              # calculating the loss\n",
        "              loss = criterion(outputs, labels)\n",
        "              #backward pass and optimization\n",
        "              loss.backward()\n",
        "              optimizer.step()\n",
        "\n",
        "              running_loss += loss.item()\n",
        "\n",
        "          # calculating and storing the average training loss for the current epoch\n",
        "          train_loss = running_loss / len(train_loader)\n",
        "          train_losses.append(train_loss)\n",
        "\n",
        "\n",
        "          # Validation loop\n",
        "          val_running_loss = 0.0\n",
        "          # disabling gradient computation during validation\n",
        "          with torch.no_grad():\n",
        "            # iterating through validation data\n",
        "              total = 0\n",
        "              correct = 0\n",
        "              for images, labels in val_loader:\n",
        "                  images, labels = images.to(device), labels.to(device)\n",
        "                  outputs = model(images)\n",
        "                  # calculating validation loss\n",
        "                  _, predicted = torch.max(outputs.data, 1)\n",
        "                  total += labels.size(0)\n",
        "                  correct += (predicted == labels).sum().item()\n",
        "                  val_running_loss += loss.item()\n",
        "\n",
        "          # calculating and storing the average validation loss for the current epoch\n",
        "          val_loss = val_running_loss / len(val_loader)\n",
        "          val_accuracy = 100 * correct / total\n",
        "          val_losses.append(val_loss)\n",
        "\n",
        "          # implementing observer pattern for logging results\n",
        "          if observer:\n",
        "            observer.update(epoch, val_loss,val_accuracy)\n",
        "\n",
        "        # implementing observer pattern for graph visualisation\n",
        "        observer.train_val_graph(val_losses, train_losses)\n",
        "\n",
        "\n",
        "    def predict(model, image):\n",
        "         model.eval()\n",
        "         with torch.no_grad():\n",
        "          image = image.to(device)\n",
        "          outputs = model(image)\n",
        "          _ , predicted = torch.max(outputs, 1)\n",
        "         return predicted.item()"
      ],
      "metadata": {
        "id": "YiPh0tJWplXR"
      },
      "execution_count": null,
      "outputs": []
    },
    {
      "cell_type": "code",
      "source": [
        "# Strategy Pattern: Different model implementation - Resnet\n",
        "class ResNetModel(ASLModel):\n",
        "    def __init__(self):\n",
        "      #using pretrained resnet18 model\n",
        "        super().__init__()\n",
        "        self.model = models.resnet18(pretrained=True)\n",
        "        # altering first layer of trained model to adjust to the data classes and grayscale input\n",
        "        self.model.conv1 = nn.Conv2d(1, 64, kernel_size=7, stride=2, padding=3, bias=False)\n",
        "        self.model.fc = nn.Linear(self.model.fc.in_features, 25)\n",
        "        self.dropout = nn.Dropout(0.5)\n",
        "\n",
        "    def forward(self, x):\n",
        "        x = self.model(x)\n",
        "        return x\n",
        "\n",
        "    def train_model(self, train_loader, criterion, optimizer, num_epochs, device, observer=None):\n",
        "        train_losses, val_losses, val_accuracies = [], [], []\n",
        "\n",
        "        for epoch in range(num_epochs):\n",
        "            running_loss = 0.0\n",
        "\n",
        "            # training loop\n",
        "            self.train()\n",
        "            for images, labels in train_loader:\n",
        "                images, labels = images.to(device), labels.to(device)\n",
        "                optimizer.zero_grad()\n",
        "                outputs = self.forward(images)\n",
        "                loss = criterion(outputs, labels)\n",
        "                loss.backward()\n",
        "                optimizer.step()\n",
        "                running_loss += loss.item()\n",
        "\n",
        "            train_loss = running_loss / len(train_loader)\n",
        "            train_losses.append(train_loss)\n",
        "\n",
        "            # validation loop\n",
        "            val_running_loss = 0.0\n",
        "            correct, total = 0, 0\n",
        "            self.eval()\n",
        "            with torch.no_grad():\n",
        "                for images, labels in val_loader:\n",
        "                    images, labels = images.to(device), labels.to(device)\n",
        "                    outputs = self.forward(images)\n",
        "                    loss = criterion(outputs, labels)\n",
        "                    _, predicted = torch.max(outputs.data, 1)\n",
        "                    total += labels.size(0)\n",
        "                    correct += (predicted == labels).sum().item()\n",
        "                    val_running_loss += loss.item()\n",
        "\n",
        "            val_loss = val_running_loss / len(val_loader)\n",
        "            val_accuracy = 100 * correct / total\n",
        "            val_losses.append(val_loss)\n",
        "            val_accuracies.append(val_accuracy)\n",
        "\n",
        "            # implementing observer pattern for logging results\n",
        "            if observer:\n",
        "                observer.update(epoch, val_loss, val_accuracy)\n",
        "\n",
        "        # implementing observer pattern for graph visualisation\n",
        "        observer.train_val_graph(val_losses, train_losses)\n",
        "\n",
        "    def predict(model, image):\n",
        "         model.eval()\n",
        "         with torch.no_grad():\n",
        "          image = image.to(device)\n",
        "          outputs = model(image)\n",
        "          _ , predicted = torch.max(outputs, 1)\n",
        "         return predicted.item()\n"
      ],
      "metadata": {
        "id": "Us_fNsXlB5lV"
      },
      "execution_count": null,
      "outputs": []
    },
    {
      "cell_type": "code",
      "source": [
        "# Factory Pattern: Model Factory fro selecting model type : either CNN or ResNet\n",
        "class ModelFactory:\n",
        "    @staticmethod\n",
        "    def get_model(model_type):\n",
        "        if model_type == \"CNN\":\n",
        "            return CNNModel()\n",
        "        elif model_type == \"ResNet\":\n",
        "            return ResNetModel()\n",
        "        else:\n",
        "            raise ValueError(\"Unknown model type\")\n"
      ],
      "metadata": {
        "id": "5mVw-4oQplZ8"
      },
      "execution_count": null,
      "outputs": []
    },
    {
      "cell_type": "code",
      "source": [
        "# Observer Pattern: Training observer to monitor model training and validation\n",
        "class EvalObserver:\n",
        "    def update(self, epoch, loss,accuracy):\n",
        "      # printing validation loss and accuracy per epoch\n",
        "        print(f\"Validation Epoch: {epoch}, Loss: {loss}, Accuracy: {accuracy}\")\n",
        "\n",
        "    def train_val_graph(self,val_losses, train_losses):\n",
        "      # plotting training and validation loss over epochs\n",
        "      plt.figure(figsize=(10,5))\n",
        "      plt.plot(train_losses, label='Training Loss')\n",
        "      plt.plot(val_losses, label='Validation Loss')\n",
        "      plt.xlabel('Epoch')\n",
        "      plt.ylabel('Loss')\n",
        "      plt.title('Training and Validation Loss')\n",
        "      plt.legend()\n",
        "      plt.show()\n",
        "\n",
        "\n",
        "observer = EvalObserver()"
      ],
      "metadata": {
        "id": "Tl0LJds4H56b"
      },
      "execution_count": null,
      "outputs": []
    },
    {
      "cell_type": "code",
      "source": [
        "# evaluating model perfromance on test data\n",
        "def test_model():\n",
        "  model.eval()\n",
        "  total_test = 0\n",
        "  correct_test = 0\n",
        "\n",
        "  with torch.no_grad():\n",
        "      for images, labels in test_loader:\n",
        "          images, labels= images.to(device), labels.to(device)\n",
        "          outputs = model(images)\n",
        "          _, predicted = torch.max(outputs.data, 1)\n",
        "          total_test += labels.size(0)\n",
        "          correct_test += (predicted == labels).sum().item()\n",
        "\n",
        "  # calculating testing accuracy\n",
        "  test_accuracy = 100 * correct_test / total_test\n",
        "  print(f'Test Accuracy: {test_accuracy:.2f}%')"
      ],
      "metadata": {
        "id": "_2By2WSO2kdl"
      },
      "execution_count": null,
      "outputs": []
    },
    {
      "cell_type": "code",
      "source": [
        "# running the ASL model training and evaluation\n",
        "if __name__ == \"__main__\":\n",
        "    # initialising the asl data loader\n",
        "    data_loader = ASLDataLoader()\n",
        "\n",
        "    # creating DataLoaders for training, validation, and testing\n",
        "    train_loader, val_loader, test_loader = data_loader.create_dataloaders()\n",
        "\n",
        "    # initiating the model using the factory pattern\n",
        "    model = ModelFactory.get_model(\"CNN\")\n",
        "\n",
        "    # defining optimizer and loss function\n",
        "    optimizer = optim.Adam(model.parameters(), lr=0.001)\n",
        "    criterion = nn.CrossEntropyLoss()\n",
        "    model.to(device)\n",
        "\n",
        "     # training  the model with specified parameters\n",
        "    model.train_model(train_loader, criterion, optimizer, num_epochs=10,device=device, observer=observer)\n",
        "\n",
        "     # evaluating the model on the test dataset\n",
        "    test_model()\n",
        "\n",
        "     # loading an example image for prediction\n",
        "    image_path = '/content/drive/MyDrive/asl/sign_images/L.jpeg'\n",
        "    letter = image_path.split(\"/\")[-1].split(\".\")[0]\n",
        "\n",
        "    # loading the image using visualization utilities\n",
        "    image = visualisation.load_image(image_path)\n",
        "\n",
        "    # predicting the class label of the image using the trained model\n",
        "    prediction = model.predict(image)\n",
        "    print(f'Predicted class: {alph_dict[prediction]}')\n",
        "\n",
        "     # displaying the image along with its true label\n",
        "    visualisation.plot_image(image, letter)"
      ],
      "metadata": {
        "id": "piQVROGcplb9",
        "colab": {
          "base_uri": "https://localhost:8080/",
          "height": 872
        },
        "outputId": "87e69181-d844-49df-a060-b69de886acf5"
      },
      "execution_count": null,
      "outputs": [
        {
          "output_type": "stream",
          "name": "stdout",
          "text": [
            "Validation Epoch: 0, Loss: 0.7887646555900574, Accuracy: 78.23711527954835\n",
            "Validation Epoch: 1, Loss: 0.3101740777492523, Accuracy: 90.38426516117283\n",
            "Validation Epoch: 2, Loss: 0.1194913387298584, Accuracy: 95.15570934256056\n",
            "Validation Epoch: 3, Loss: 0.2853541076183319, Accuracy: 96.99508286286651\n",
            "Validation Epoch: 4, Loss: 0.01584278978407383, Accuracy: 97.72354762338372\n",
            "Validation Epoch: 5, Loss: 0.03570830076932907, Accuracy: 97.63248952831907\n",
            "Validation Epoch: 6, Loss: 0.08483108878135681, Accuracy: 98.03314514660353\n",
            "Validation Epoch: 7, Loss: 0.010376258753240108, Accuracy: 98.63412857403023\n",
            "Validation Epoch: 8, Loss: 0.01982479728758335, Accuracy: 99.10763066836641\n",
            "Validation Epoch: 9, Loss: 0.004693904425948858, Accuracy: 98.94372609725005\n"
          ]
        },
        {
          "output_type": "display_data",
          "data": {
            "text/plain": [
              "<Figure size 1000x500 with 1 Axes>"
            ],
            "image/png": "[encoded data removed]"
          },
          "metadata": {}
        },
        {
          "output_type": "stream",
          "name": "stdout",
          "text": [
            "Test Accuracy: 93.29%\n",
            "11\n",
            "Predicted class: L\n"
          ]
        },
        {
          "output_type": "display_data",
          "data": {
            "text/plain": [
              "<Figure size 150x300 with 1 Axes>"
            ],
            "image/png": "[encoded data removed]"
          },
          "metadata": {}
        }
      ]
    }
  ]
}